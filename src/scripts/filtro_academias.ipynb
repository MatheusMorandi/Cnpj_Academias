{
 "cells": [
  {
   "cell_type": "code",
   "execution_count": 3,
   "metadata": {},
   "outputs": [],
   "source": [
    "import polars as pl\n",
    "\n",
    "import os"
   ]
  },
  {
   "cell_type": "code",
   "execution_count": null,
   "metadata": {},
   "outputs": [],
   "source": [
    "schema = {\n",
    "    \"CNPJ BÁSICO\": pl.Utf8,\n",
    "    \"CNPJ ORDEM\": pl.Utf8,\n",
    "    \"CNPJ DV\": pl.Utf8,\n",
    "    \"IDENTIFICADOR MATRIZ/FILIAL\": pl.Utf8,\n",
    "    \"NOME FANTASIA\": pl.Utf8,\n",
    "    \"SITUAÇÃO CADASTRAL\": pl.Utf8,\n",
    "    \"DATA SITUAÇÃO CADASTRAL\": pl.Utf8,  \n",
    "    \"MOTIVO SITUAÇÃO CADASTRAL\": pl.Utf8,\n",
    "    \"NOME DA CIDADE NO EXTERIOR\": pl.Utf8,\n",
    "    \"PAIS\": pl.Utf8,\n",
    "    \"DATA DE INÍCIO ATIVIDADE\": pl.Utf8,  \n",
    "    \"CNAE FISCAL PRINCIPAL\": pl.Utf8,\n",
    "    \"CNAE FISCAL SECUNDÁRIA\": pl.Utf8,\n",
    "    \"TIPO DE LOGRADOURO\": pl.Utf8,\n",
    "    \"LOGRADOURO\": pl.Utf8,\n",
    "    \"NÚMERO\": pl.Utf8,\n",
    "    \"COMPLEMENTO\": pl.Utf8,\n",
    "    \"BAIRRO\": pl.Utf8,\n",
    "    \"CEP\": pl.Utf8,\n",
    "    \"UF\": pl.Utf8,\n",
    "    \"MUNICÍPIO\": pl.Utf8,\n",
    "    \"DDD 1\": pl.Utf8,\n",
    "    \"TELEFONE 1\": pl.Utf8,\n",
    "    \"DDD 2\": pl.Utf8,\n",
    "    \"TELEFONE 2\": pl.Utf8,\n",
    "    \"DDD DO FAX\": pl.Utf8,\n",
    "    \"FAX\": pl.Utf8,\n",
    "    \"CORREIO ELETRÔNICO\": pl.Utf8,\n",
    "    \"SITUAÇÃO ESPECIAL\": pl.Utf8,\n",
    "    \"DATA DA SITUAÇÃO ESPECIAL\": pl.Utf8  \n",
    "}\n",
    "\n",
    "codigo_academia = \"9313100\" # Código do cnae para Atividades de condicionamento físico\n",
    "\n",
    "situacao_cadastro = \"02\" # Código para cadastros ativos"
   ]
  },
  {
   "cell_type": "code",
   "execution_count": 5,
   "metadata": {},
   "outputs": [],
   "source": [
    "df = pl.read_csv(\"../CNPJ/estabelecimento_9.csv\",\n",
    "    separator = \";\",\n",
    "    encoding = \"latin1\",\n",
    "    has_header = False,  \n",
    "    new_columns = list(schema.keys()),  \n",
    "    schema_overrides = schema,\n",
    "    ignore_errors = True)"
   ]
  },
  {
   "cell_type": "code",
   "execution_count": 6,
   "metadata": {},
   "outputs": [],
   "source": [
    "#filtro para os itens que contenham o codigo 9313100 e também tenham o cadastro ativo\n",
    "df_filtrado = df.filter(\n",
    "    (\n",
    "    (pl.col(\"CNAE FISCAL PRINCIPAL\") == codigo_academia) |\n",
    "    (pl.col(\"CNAE FISCAL SECUNDÁRIA\").str.contains(codigo_academia))\n",
    "    ) &\n",
    "    (pl.col(\"SITUAÇÃO CADASTRAL\") == situacao_cadastro)\n",
    ")"
   ]
  },
  {
   "cell_type": "code",
   "execution_count": 7,
   "metadata": {},
   "outputs": [],
   "source": [
    "df_filtrado.write_csv(\"academias_ativas_filtradas_10.csv\", separator=\";\")"
   ]
  },
  {
   "cell_type": "code",
   "execution_count": 8,
   "metadata": {},
   "outputs": [
    {
     "name": "stdout",
     "output_type": "stream",
     "text": [
      "Lendo academias_ativas_filtradas_1.csv...\n",
      "Lendo academias_ativas_filtradas_2.csv...\n",
      "Lendo academias_ativas_filtradas_3.csv...\n",
      "Lendo academias_ativas_filtradas_4.csv...\n",
      "Lendo academias_ativas_filtradas_5.csv...\n",
      "Lendo academias_ativas_filtradas_6.csv...\n",
      "Lendo academias_ativas_filtradas_7.csv...\n",
      "Lendo academias_ativas_filtradas_8.csv...\n",
      "Lendo academias_ativas_filtradas_9.csv...\n",
      "Lendo academias_ativas_filtradas_10.csv...\n",
      "Arquivo final gerado: ../CNPJ/data/academias_filtradas.csv\n"
     ]
    }
   ],
   "source": [
    "diretorio_filtrados = \"../CNPJ/data_filtrada\"\n",
    "\n",
    "arquivo_final = \"../CNPJ/data/academias_filtradas.csv\"\n",
    "\n",
    "dataframes_filtrados = []\n",
    "\n",
    "for i in range(1, 11):\n",
    "    nome_arquivo = f\"academias_ativas_filtradas_{i}.csv\"\n",
    "    caminho_completo = f\"{diretorio_filtrados}/{nome_arquivo}\"\n",
    "\n",
    "    if os.path.exists(caminho_completo):\n",
    "        print(f\"Lendo {nome_arquivo}...\")\n",
    "        df = pl.read_csv(caminho_completo, \n",
    "        separator=\";\",\n",
    "        encoding = \"latin1\",\n",
    "        has_header = True,  \n",
    "        new_columns = list(schema.keys()),  \n",
    "        schema_overrides = schema,\n",
    "        ignore_errors = True)\n",
    "        dataframes_filtrados.append(df)\n",
    "    else:\n",
    "        print(f\"Arquivo {nome_arquivo} não encontrado.\")\n",
    "\n",
    "\n",
    "if dataframes_filtrados:\n",
    "\n",
    "    df_final = pl.concat(dataframes_filtrados)\n",
    "\n",
    "\n",
    "    df_final.write_csv(arquivo_final, separator=\";\")\n",
    "    print(f\"Arquivo final gerado: {arquivo_final}\")\n",
    "else:\n",
    "    print(\"Nenhum dado foi encontrado para unir.\")"
   ]
  }
 ],
 "metadata": {
  "kernelspec": {
   "display_name": "cnpj",
   "language": "python",
   "name": "python3"
  },
  "language_info": {
   "codemirror_mode": {
    "name": "ipython",
    "version": 3
   },
   "file_extension": ".py",
   "mimetype": "text/x-python",
   "name": "python",
   "nbconvert_exporter": "python",
   "pygments_lexer": "ipython3",
   "version": "3.12.9"
  }
 },
 "nbformat": 4,
 "nbformat_minor": 2
}
